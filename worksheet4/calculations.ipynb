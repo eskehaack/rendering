{
 "cells": [
  {
   "cell_type": "markdown",
   "id": "6f13dd9b",
   "metadata": {},
   "source": [
    "# Part 1"
   ]
  },
  {
   "cell_type": "markdown",
   "id": "5d876f12",
   "metadata": {},
   "source": [
    "$$E = \\frac{h \\cdot c}{\\lambda}$$"
   ]
  },
  {
   "cell_type": "code",
   "execution_count": 2,
   "id": "a53b551b",
   "metadata": {},
   "outputs": [
    {
     "name": "stdout",
     "output_type": "stream",
     "text": [
      "Energy pr. photon:\t 3.97281708e-19\n",
      "Total amount of photons: 1.2585527849170442e+19\n"
     ]
    }
   ],
   "source": [
    "h = 6.626e-34\n",
    "c = 2.9979e8\n",
    "wl = 500e-9 # wavelength\n",
    "E_total = (25*0.2)\n",
    "\n",
    "E_pr_photon = h*c / wl\n",
    "print(f\"Energy pr. photon:\\t {E_pr_photon}\")\n",
    "print(f\"Total amount of photons: {E_total / E_pr_photon}\")"
   ]
  },
  {
   "cell_type": "markdown",
   "id": "a374a1c7",
   "metadata": {},
   "source": [
    "From the expression on slide 2 we can calculate that a singe photon uses 3.97e-19 J of energy. This means that the total amount of photons will be 1.26e+19 (12.6 quintillion) photons."
   ]
  },
  {
   "cell_type": "markdown",
   "id": "45d60b7f",
   "metadata": {},
   "source": [
    "# Part 2"
   ]
  },
  {
   "cell_type": "markdown",
   "id": "dccfc4e8",
   "metadata": {},
   "source": [
    "**Radiant flux**"
   ]
  },
  {
   "cell_type": "markdown",
   "id": "6f52f71e",
   "metadata": {},
   "source": [
    "$$\\Phi = U \\cdot I$$\n",
    "Where $U$ is voltage and $I$ is power."
   ]
  },
  {
   "cell_type": "code",
   "execution_count": 3,
   "id": "ab5ddc8a",
   "metadata": {},
   "outputs": [
    {
     "name": "stdout",
     "output_type": "stream",
     "text": [
      "Flux is 1.680 W\n"
     ]
    }
   ],
   "source": [
    "voltage = 2.4\n",
    "power = 0.7\n",
    "\n",
    "print(f\"Flux is {(wattage:=voltage * power):.3f} W\")"
   ]
  },
  {
   "cell_type": "markdown",
   "id": "602b712a",
   "metadata": {},
   "source": [
    "**Radient intensity**"
   ]
  },
  {
   "cell_type": "markdown",
   "id": "79b8d92e",
   "metadata": {},
   "source": [
    "$$I = \\frac{\\Phi}{\\omega}$$\n",
    "Where $I$ is intensity, and $\\omega$ is the solid angle."
   ]
  },
  {
   "cell_type": "code",
   "execution_count": 4,
   "id": "fff238a4",
   "metadata": {},
   "outputs": [
    {
     "name": "stdout",
     "output_type": "stream",
     "text": [
      "Intensity is 0.134 W/sr\n"
     ]
    }
   ],
   "source": [
    "import math as m\n",
    "solid_angle = 4 * m.pi\n",
    "\n",
    "print(f\"Intensity is {(intensity:= wattage / solid_angle):.3f} W/sr\")"
   ]
  },
  {
   "cell_type": "markdown",
   "id": "5f82e4d8",
   "metadata": {},
   "source": [
    "**Radiant exitance**"
   ]
  },
  {
   "cell_type": "markdown",
   "id": "26feb78c",
   "metadata": {},
   "source": [
    "$$M = \\frac{\\Phi}{A}$$\n",
    "Where $M$ is exitance, and $A$ is the area."
   ]
  },
  {
   "cell_type": "code",
   "execution_count": 5,
   "id": "efb5c0ec",
   "metadata": {},
   "outputs": [
    {
     "name": "stdout",
     "output_type": "stream",
     "text": [
      "Exitance is 13.369 W/m^2\n"
     ]
    }
   ],
   "source": [
    "r = 0.01\n",
    "A = r * solid_angle\n",
    "\n",
    "print(f\"Exitance is {(exitance:=wattage / A):.3f} W/m^2\")"
   ]
  },
  {
   "cell_type": "markdown",
   "id": "58ec9f13",
   "metadata": {},
   "source": [
    "**Emitted energy**"
   ]
  },
  {
   "cell_type": "markdown",
   "id": "bacdf847",
   "metadata": {},
   "source": [
    "$$E=\\Phi \\cdot t$$\n",
    "Where $t$ is time."
   ]
  },
  {
   "cell_type": "code",
   "execution_count": 6,
   "id": "094944bb",
   "metadata": {},
   "outputs": [
    {
     "name": "stdout",
     "output_type": "stream",
     "text": [
      "Emitted energy in 300 s is 504.000 J at 100% efficiency\n"
     ]
    }
   ],
   "source": [
    "time = 5*60\n",
    "\n",
    "print(f\"Emitted energy in {time} s is {wattage * time:.3f} J at 100% efficiency\")"
   ]
  },
  {
   "cell_type": "markdown",
   "id": "d959ea8a",
   "metadata": {},
   "source": [
    "# Part 3"
   ]
  },
  {
   "cell_type": "markdown",
   "id": "45e7802b",
   "metadata": {},
   "source": [
    "$$A_{pupil} = r^2\\pi$$\n",
    "Where $A_{pupil}$ is the surface area of the pupil and $r$ is the radius of the pupil.\n",
    "$$A_{surface} = r4\\pi$$\n",
    "Where $A_{surface}$ is the surface area of a sphere with radius, $r$, equal to the distance between the light source and the eye.\n",
    "$$E_{surface} = \\frac{\\Phi}{A_{surface}}$$\n",
    "Where $E_{surface}$ is unit irridance at the sphere \n",
    "$$E_{pupil}=E_{surface} \\cdot A_{pupil}$$\n",
    "Where we scale the irridance by the area of the pupil."
   ]
  },
  {
   "cell_type": "code",
   "execution_count": null,
   "id": "471dce16",
   "metadata": {},
   "outputs": [
    {
     "name": "stdout",
     "output_type": "stream",
     "text": [
      "Irridance recieved in eye: 3.780e-06\n"
     ]
    }
   ],
   "source": [
    "area_of_pupil = (6e-3 / 2)**2 * m.pi\n",
    "area_of_sphere_at_eye_distance = 4*m.pi * 1**2\n",
    "irridance_at_eye_distance = wattage / area_of_sphere_at_eye_distance\n",
    "irridance_in_pupil = area_of_pupil * irridance_at_eye_distance\n",
    "print(f\"Irridance recieved in eye: {irridance_in_pupil:.3e}\")"
   ]
  },
  {
   "cell_type": "markdown",
   "id": "f07168d1",
   "metadata": {},
   "source": [
    "# Part 4"
   ]
  },
  {
   "cell_type": "markdown",
   "id": "a9bb1faf",
   "metadata": {},
   "source": [
    "$$E = \\frac{\\Phi}{A}$$\n",
    "$$\\text{lux} = 685 E \\cdot V(\\lambda)"
   ]
  },
  {
   "cell_type": "code",
   "execution_count": null,
   "id": "712dcaa3",
   "metadata": {},
   "outputs": [
    {
     "name": "stdout",
     "output_type": "stream",
     "text": [
      "Irridance at table distance: 0.067 W/m^2\n",
      "Illimunance at table distance: 4.579 Im/m^2\n"
     ]
    }
   ],
   "source": [
    "area_of_sphere_at_table_distance = 4*m.pi*2**2\n",
    "flux = 200 * 0.2\n",
    "irridance = wattage / area_of_sphere_at_table_distance\n",
    "print(f\"Irridance at table distance: {irridance:.3f} W/m^2\")\n",
    "illuminance = irridance * 685 * 0.1\n",
    "print(f\"Illimunance at table distance: {illuminance:.3f} Im/m^2\") "
   ]
  },
  {
   "cell_type": "markdown",
   "id": "441a7f78",
   "metadata": {},
   "source": [
    "# Part 5"
   ]
  },
  {
   "cell_type": "markdown",
   "id": "8d0a9133",
   "metadata": {},
   "source": [
    "We know that:\n",
    "$$E_{known} = E_{unknown}$$\n",
    "And the energy can be calculated as:\n",
    "$$E = \\frac{I}{d^2}$$\n",
    "Where $d$ is distance to the screen. Therefor:\n",
    "$$E_{known} = \\frac{40}{0.35^2}$$\n",
    "And\n",
    "$$E_{unknown} = \\frac{I_x}{0.65^2}$$\n",
    "Which means:\n",
    "$$I_x = 0.65^2 \\frac{40}{0.35^2}$$\n"
   ]
  },
  {
   "cell_type": "code",
   "execution_count": 9,
   "id": "1e4e2a6e",
   "metadata": {},
   "outputs": [
    {
     "name": "stdout",
     "output_type": "stream",
     "text": [
      "Luminous intesity of unknown source: 137.959\n"
     ]
    }
   ],
   "source": [
    "E_known = 40 / (0.35**2)\n",
    "I_x = 40 * (0.65**2) / (0.35**2)\n",
    "print(f\"Luminous intesity of unknown source: {I_x:.3f}\")"
   ]
  },
  {
   "cell_type": "markdown",
   "id": "26de1655",
   "metadata": {},
   "source": [
    "# Part 6"
   ]
  },
  {
   "cell_type": "markdown",
   "id": "ee9e3c9d",
   "metadata": {},
   "source": [
    "$$B=L\\pi$$\n",
    "Where $B$ is radiosity and $L$ is radiance.\n",
    "\n",
    "$$\\Phi = LA\\pi$$\n",
    "Where $A$ is the area of the lamp."
   ]
  },
  {
   "cell_type": "code",
   "execution_count": 10,
   "id": "866ad40e",
   "metadata": {},
   "outputs": [
    {
     "name": "stdout",
     "output_type": "stream",
     "text": [
      "Radiosity of diffuse emitter: 15707.963\n",
      "Energy emitted from diffuse emitter: 157.080\n"
     ]
    }
   ],
   "source": [
    "area = 0.1 * 0.1 # A\n",
    "radiance = 5000 # L\n",
    "radiosity = radiance * m.pi # B = L\\pi\n",
    "print(f\"Radiosity of diffuse emitter: {radiosity:.3f}\")\n",
    "flux = radiosity * area # \\Phi = LA\\pi\n",
    "print(f\"Energy emitted from diffuse emitter: {flux:.3f}\")"
   ]
  },
  {
   "cell_type": "markdown",
   "id": "48e568dd",
   "metadata": {},
   "source": [
    "# Part 7"
   ]
  },
  {
   "cell_type": "markdown",
   "id": "4fccb2dd",
   "metadata": {},
   "source": [
    "$$M = \\int_{\\omega}L(\\theta, \\phi)\\cos \\theta d\\omega$$\n",
    "Where $d \\omega = \\sin \\theta d\\theta d\\phi$, and $L(\\theta, \\phi)$ is the radiance. Which (with some integration rules) gives us:\n",
    "$$M = \\int_0^{2\\pi}\\int_0^{\\pi/2} L(\\theta, \\phi)\\cos \\theta \\sin \\theta d\\theta d\\phi$$\n",
    "And some more integration gives us the result for the example with $L(\\theta, \\phi) = 6000 \\cos \\theta$:\n",
    "$$M = 6000\\cdot 2\\pi \\cdot 1/3 = 4000 \\pi \\, W/m^2$$\n",
    "\n",
    "And power is calculated as:\n",
    "$$\\Phi = M \\cdot A = 4000\\pi \\cdot (0.1 \\cdot 0.1) = 126 W$$"
   ]
  },
  {
   "cell_type": "code",
   "execution_count": 14,
   "id": "74974342",
   "metadata": {},
   "outputs": [
    {
     "name": "stdout",
     "output_type": "stream",
     "text": [
      "Radiant exitance is: 1.257e+04\n",
      "Emitted power is: 125.664\n"
     ]
    }
   ],
   "source": [
    "M = 6000 * 2 * m.pi * 1/3\n",
    "print(f\"Radiant exitance is: {M:.3e}\")\n",
    "flux = M * 0.1*0.1\n",
    "print(f\"Emitted power is: {flux:.3f}\")"
   ]
  },
  {
   "cell_type": "markdown",
   "id": "32b344e7",
   "metadata": {},
   "source": [
    "# Part 8"
   ]
  },
  {
   "cell_type": "markdown",
   "id": "9a2399dd",
   "metadata": {},
   "source": [
    "Is the radiance from the Sun the same on Earth as on Mars?\n",
    "- Yes. The radiance is a property of the source of light. It describes the output of the Suns power. Since light is not diffused (or absorbed) in space/vacuum the distance to the target will not matter. Earth is warmer because it has an insulating atmosphere that keeps the energy."
   ]
  },
  {
   "cell_type": "markdown",
   "id": "7bafa2f9",
   "metadata": {},
   "source": [
    "Calculate the radiance of the Sun on the two planets.\n",
    "- According to slide 8, radiance (for a diffuse emitter) can be calculated as:\n",
    "$$L = \\frac{\\Phi}{A \\pi}$$"
   ]
  },
  {
   "cell_type": "code",
   "execution_count": 18,
   "id": "3e6a1e83",
   "metadata": {},
   "outputs": [
    {
     "name": "stdout",
     "output_type": "stream",
     "text": [
      "Sun radiance: 2.050e+07 W/(m^2 sr)\n"
     ]
    }
   ],
   "source": [
    "L = 3.91e26 / (6.07e18 * m.pi)\n",
    "print(f\"Sun radiance: {L:.3e} W/(m^2 sr)\")"
   ]
  },
  {
   "cell_type": "markdown",
   "id": "57808d92",
   "metadata": {},
   "source": [
    "Calculate the solid angle of the Sun"
   ]
  },
  {
   "cell_type": "markdown",
   "id": "3609823d",
   "metadata": {},
   "source": [
    "We can calculate the half-angle using regular trigonometry:\n",
    "$$\\theta = \\sin \\frac{r_{sun}}{d_{planet}}$$\n",
    "Then use the calculation for the solid angle (from the slides)\n",
    "$$\\Omega = 2\\pi(1-\\cos(\\theta))$$"
   ]
  },
  {
   "cell_type": "code",
   "execution_count": 24,
   "id": "9fd10c5c",
   "metadata": {},
   "outputs": [
    {
     "name": "stdout",
     "output_type": "stream",
     "text": [
      "Solid angle from Earth: 6.744e-05\n",
      "Solid angle from Mars: 2.919e-05\n"
     ]
    }
   ],
   "source": [
    "d_earth = 1.5e11\n",
    "d_mars = 2.28e11\n",
    "r_sun = m.sqrt(6.07e18/(4*m.pi))\n",
    "\n",
    "theta_earth = m.asin(r_sun/d_earth)\n",
    "sr_earth = 2*m.pi*(1-m.cos(theta_earth))\n",
    "print(f\"Solid angle from Earth: {sr_earth:.3e}\")\n",
    "\n",
    "theta_mars = m.asin(r_sun/d_mars)\n",
    "sr_mars = 2*m.pi*(1-m.cos(theta_mars))\n",
    "print(f\"Solid angle from Mars: {sr_mars:.3e}\")"
   ]
  },
  {
   "cell_type": "markdown",
   "id": "d7e01353",
   "metadata": {},
   "source": [
    "Calculate the received energy on a 1x1 surface on both planets:\n",
    "- Just like the eye, we calculate the irradiance of a sphere with a radius equal to the distance of Earth and Mars respectively. Then divide the total effect of the Sun with the surface area of the sphere and scale by the observed area (which in this case is 1m^2)."
   ]
  },
  {
   "cell_type": "code",
   "execution_count": 30,
   "id": "1f9b48ec",
   "metadata": {},
   "outputs": [
    {
     "name": "stdout",
     "output_type": "stream",
     "text": [
      "Energy recieved at 1x1 on Earth: 1.383e+03 W\n",
      "Energy recieved at 1x1 on Mars: 5.985e+02 W\n"
     ]
    }
   ],
   "source": [
    "flux_sun = 3.91e26\n",
    "\n",
    "sphere_earth = 4 * m.pi * d_earth**2\n",
    "irridance_earth = flux_sun / sphere_earth\n",
    "power_earth = irridance_earth * 1\n",
    "print(f\"Energy recieved at 1x1 on Earth: {power_earth:.3e} W\")\n",
    "\n",
    "sphere_mars = 4 * m.pi * d_mars**2\n",
    "irridance_mars = flux_sun / sphere_mars\n",
    "power_mars = irridance_mars * 1\n",
    "print(f\"Energy recieved at 1x1 on Mars: {power_mars:.3e} W\")\n"
   ]
  },
  {
   "cell_type": "markdown",
   "id": "e723f59f",
   "metadata": {},
   "source": [
    "Which can also be achieved by:\n",
    "$$E = L\\cdot \\Omega$$"
   ]
  },
  {
   "cell_type": "code",
   "execution_count": 32,
   "id": "d2d253a3",
   "metadata": {},
   "outputs": [
    {
     "name": "stdout",
     "output_type": "stream",
     "text": [
      "Energy recieved at 1x1 on Earth: 1.383e+03 W\n",
      "Energy recieved at 1x1 on Mars: 5.985e+02 W\n"
     ]
    }
   ],
   "source": [
    "print(f\"Energy recieved at 1x1 on Earth: {L*sr_earth:.3e} W\")\n",
    "print(f\"Energy recieved at 1x1 on Mars: {L*sr_mars:.3e} W\")"
   ]
  }
 ],
 "metadata": {
  "kernelspec": {
   "display_name": "Python 3",
   "language": "python",
   "name": "python3"
  },
  "language_info": {
   "codemirror_mode": {
    "name": "ipython",
    "version": 3
   },
   "file_extension": ".py",
   "mimetype": "text/x-python",
   "name": "python",
   "nbconvert_exporter": "python",
   "pygments_lexer": "ipython3",
   "version": "3.11.5"
  }
 },
 "nbformat": 4,
 "nbformat_minor": 5
}
